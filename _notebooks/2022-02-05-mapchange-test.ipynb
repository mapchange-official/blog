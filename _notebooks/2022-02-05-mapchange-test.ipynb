{
 "cells": [
  {
   "cell_type": "markdown",
   "source": "# New Blog Who Dis?\n> We are going to publish things to the internet with Python and R in Jupyter Notebooks.\n\n- toc:true\n- branch: master\n- badges: true\n- comments: true\n- author: John Tyler and the Magentic Dark Clowns\n- categories: [fastpages, jupyter]\n",
   "metadata": {
    "cell_id": "f33ae5b9-7cdd-4252-aadd-b8eeee0cb628",
    "tags": [],
    "deepnote_cell_type": "markdown"
   }
  },
  {
   "cell_type": "markdown",
   "source": "#### Testing writing a post from scratch.\n\nThe goals of this test are the following:\n1. Can I connect to GCP/BigQuery to pull data into the notebook? **Yes**\n2. How does the formatting look once published? Is it acceptable? **Yes, and you can hide sensitive code**\n3. What happens if there are open comments on the notebook when published? Do they show? **They remain in Deepnotes, but don't show in the blog post.**\n4. How can I more effectively save a post here and publish to the appropriate file location on GitHub for Fastpages? Can I save directly? And does the publishing action on GitHub fire automatically? **Deepnote can sync with GitHub. Additional folders/files not in the Fastpages file schema don't seem to be able to be puhed. The GitHub Actions fire automatically to update the posts. **",
   "metadata": {
    "cell_id": "2618b8c9-bd42-4759-88fa-2f2a341b130c",
    "tags": [],
    "deepnote_cell_type": "markdown"
   }
  },
  {
   "cell_type": "code",
   "metadata": {
    "cell_id": "f3ef879e-1f45-4150-9c25-96aa8ba72ca7",
    "tags": [],
    "deepnote_to_be_reexecuted": false,
    "source_hash": "77c2f1",
    "execution_start": 1644040295122,
    "execution_millis": 1131,
    "is_code_hidden": false,
    "deepnote_cell_type": "code"
   },
   "source": "{\n    \"tags\": [\n        \"hide_input\",\n    ]\n}\n\nimport json\nimport os\nfrom google.oauth2 import service_account\nfrom google.cloud import bigquery\n\nbq_credentials = service_account.Credentials.from_service_account_info(\n    json.loads(os.environ['MAPCHANGE_BIGQUERY_CONNECTION_SERVICE_ACCOUNT']))\nclient = bigquery.Client(credentials=bq_credentials, \n    project=bq_credentials.project_id)",
   "outputs": [],
   "execution_count": 1
  },
  {
   "cell_type": "code",
   "metadata": {
    "tags": [],
    "deepnote_variable_name": "df_1",
    "sql_integration_id": "a68e38de-5115-4df4-ba9e-46073050f7d2",
    "cell_id": "a76bcea0-c1a5-4ecc-8d39-57b5ac92a51b",
    "deepnote_to_be_reexecuted": false,
    "source_hash": "8280d14e",
    "execution_start": 1644040296263,
    "execution_millis": 2085,
    "deepnote_sql_source": "{\n    \"tags\": [\n        \"hide_input\",\n    ]\n}\n\nselect election_cycle, sum(dem_predicted)\nfrom `nyu-cap-ae.final.tableau_final_market`\ngroup by 1\nlimit 100;",
    "is_code_hidden": false,
    "deepnote_cell_type": "sql"
   },
   "source": "\n\ndf_1 = _deepnote_execute_sql(\"\"\"{\n    \"tags\": [\n        \"hide_input\",\n    ]\n}\n\nselect election_cycle, sum(dem_predicted)\nfrom `nyu-cap-ae.final.tableau_final_market`\ngroup by 1\nlimit 100;\n\"\"\", 'SQL_A68E38DE_5115_4DF4_BA9E_46073050F7D2')\ndf_1",
   "outputs": [
    {
     "output_type": "execute_result",
     "execution_count": 2,
     "data": {
      "application/vnd.deepnote.dataframe.v3+json": {
       "column_count": 2,
       "row_count": 4,
       "columns": [
        {
         "name": "election_cycle",
         "dtype": "object",
         "stats": {
          "unique_count": 4,
          "nan_count": 0,
          "categories": [
           {
            "name": "2018",
            "count": 1
           },
           {
            "name": "2020",
            "count": 1
           },
           {
            "name": "2 others",
            "count": 2
           }
          ]
         }
        },
        {
         "name": "f0_",
         "dtype": "float64",
         "stats": {
          "unique_count": 4,
          "nan_count": 0,
          "min": "1833835.0",
          "max": "3461406.0",
          "histogram": [
           {
            "bin_start": 1833835,
            "bin_end": 1996592.1,
            "count": 1
           },
           {
            "bin_start": 1996592.1,
            "bin_end": 2159349.2,
            "count": 1
           },
           {
            "bin_start": 2159349.2,
            "bin_end": 2322106.3,
            "count": 0
           },
           {
            "bin_start": 2322106.3,
            "bin_end": 2484863.4,
            "count": 1
           },
           {
            "bin_start": 2484863.4,
            "bin_end": 2647620.5,
            "count": 0
           },
           {
            "bin_start": 2647620.5,
            "bin_end": 2810377.6,
            "count": 0
           },
           {
            "bin_start": 2810377.6,
            "bin_end": 2973134.7,
            "count": 0
           },
           {
            "bin_start": 2973134.7,
            "bin_end": 3135891.8,
            "count": 0
           },
           {
            "bin_start": 3135891.8,
            "bin_end": 3298648.9000000004,
            "count": 0
           },
           {
            "bin_start": 3298648.9000000004,
            "bin_end": 3461406,
            "count": 1
           }
          ]
         }
        },
        {
         "name": "_deepnote_index_column",
         "dtype": "int64"
        }
       ],
       "rows": [
        {
         "election_cycle": "2018",
         "f0_": 2348452,
         "_deepnote_index_column": 0
        },
        {
         "election_cycle": "2020",
         "f0_": 2152852,
         "_deepnote_index_column": 1
        },
        {
         "election_cycle": "2016",
         "f0_": 1833835,
         "_deepnote_index_column": 2
        },
        {
         "election_cycle": "2022",
         "f0_": 3461406,
         "_deepnote_index_column": 3
        }
       ]
      },
      "text/plain": "  election_cycle        f0_\n0           2018  2348452.0\n1           2020  2152852.0\n2           2016  1833835.0\n3           2022  3461406.0",
      "text/html": "<div>\n<style scoped>\n    .dataframe tbody tr th:only-of-type {\n        vertical-align: middle;\n    }\n\n    .dataframe tbody tr th {\n        vertical-align: top;\n    }\n\n    .dataframe thead th {\n        text-align: right;\n    }\n</style>\n<table border=\"1\" class=\"dataframe\">\n  <thead>\n    <tr style=\"text-align: right;\">\n      <th></th>\n      <th>election_cycle</th>\n      <th>f0_</th>\n    </tr>\n  </thead>\n  <tbody>\n    <tr>\n      <th>0</th>\n      <td>2018</td>\n      <td>2348452.0</td>\n    </tr>\n    <tr>\n      <th>1</th>\n      <td>2020</td>\n      <td>2152852.0</td>\n    </tr>\n    <tr>\n      <th>2</th>\n      <td>2016</td>\n      <td>1833835.0</td>\n    </tr>\n    <tr>\n      <th>3</th>\n      <td>2022</td>\n      <td>3461406.0</td>\n    </tr>\n  </tbody>\n</table>\n</div>"
     },
     "metadata": {}
    }
   ],
   "execution_count": 2
  },
  {
   "cell_type": "markdown",
   "source": "There is supposed to be a built in visualization that shows below, but it doesn't work with Fastpages. Could be useful for quick and dirty adhoc visualizations in Deepnote while exploring data though. ",
   "metadata": {
    "cell_id": "4ecc0ac9-9898-4d0f-9a08-730c3ec06ab7",
    "tags": [],
    "deepnote_cell_type": "markdown"
   }
  },
  {
   "cell_type": "code",
   "source": "_deepnote_run_altair(df_1, \"\"\"{\"$schema\":\"https://vega.github.io/schema/vega-lite/v4.json\",\"mark\":{\"type\":\"bar\",\"tooltip\":{\"content\":\"data\"}},\"height\":220,\"autosize\":{\"type\":\"fit\"},\"data\":{\"name\":\"placeholder\"},\"encoding\":{\"x\":{\"field\":\"election_cycle\",\"type\":\"nominal\",\"sort\":null,\"scale\":{\"type\":\"linear\",\"zero\":false}},\"y\":{\"field\":\"f0_\",\"type\":\"quantitative\",\"sort\":null,\"scale\":{\"type\":\"linear\",\"zero\":true}},\"color\":{\"field\":\"f0_\",\"type\":\"quantitative\",\"sort\":null,\"scale\":{\"type\":\"linear\",\"zero\":false}}}}\"\"\")",
   "metadata": {
    "cell_id": "89743061-2e92-4f0d-80f5-6fcc15f6df1d",
    "deepnote_variable_name": "df_1",
    "deepnote_visualization_spec": {
     "$schema": "https://vega.github.io/schema/vega-lite/v4.json",
     "mark": {
      "type": "bar",
      "tooltip": {
       "content": "data"
      }
     },
     "height": 220,
     "autosize": {
      "type": "fit"
     },
     "data": {
      "name": "placeholder"
     },
     "encoding": {
      "x": {
       "field": "election_cycle",
       "type": "nominal",
       "sort": null,
       "scale": {
        "type": "linear",
        "zero": false
       }
      },
      "y": {
       "field": "f0_",
       "type": "quantitative",
       "sort": null,
       "scale": {
        "type": "linear",
        "zero": true
       }
      },
      "color": {
       "field": "f0_",
       "type": "quantitative",
       "sort": null,
       "scale": {
        "type": "linear",
        "zero": false
       }
      }
     }
    },
    "deepnote_to_be_reexecuted": false,
    "source_hash": "c91af273",
    "execution_start": 1644040298353,
    "execution_millis": 729,
    "deepnote_output_heights": [
     314
    ],
    "deepnote_cell_type": "visualization"
   },
   "outputs": [
    {
     "output_type": "execute_result",
     "execution_count": 3,
     "data": {
      "text/html": "\n<div id=\"altair-viz-a600d454bd734860ab59d09f7709b75f\"></div>\n<script type=\"text/javascript\">\n  (function(spec, embedOpt){\n    let outputDiv = document.currentScript.previousElementSibling;\n    if (outputDiv.id !== \"altair-viz-a600d454bd734860ab59d09f7709b75f\") {\n      outputDiv = document.getElementById(\"altair-viz-a600d454bd734860ab59d09f7709b75f\");\n    }\n    const paths = {\n      \"vega\": \"https://cdn.jsdelivr.net/npm//vega@5?noext\",\n      \"vega-lib\": \"https://cdn.jsdelivr.net/npm//vega-lib?noext\",\n      \"vega-lite\": \"https://cdn.jsdelivr.net/npm//vega-lite@4.8.1?noext\",\n      \"vega-embed\": \"https://cdn.jsdelivr.net/npm//vega-embed@6?noext\",\n    };\n\n    function loadScript(lib) {\n      return new Promise(function(resolve, reject) {\n        var s = document.createElement('script');\n        s.src = paths[lib];\n        s.async = true;\n        s.onload = () => resolve(paths[lib]);\n        s.onerror = () => reject(`Error loading script: ${paths[lib]}`);\n        document.getElementsByTagName(\"head\")[0].appendChild(s);\n      });\n    }\n\n    function showError(err) {\n      outputDiv.innerHTML = `<div class=\"error\" style=\"color:red;\">${err}</div>`;\n      throw err;\n    }\n\n    function displayChart(vegaEmbed) {\n      vegaEmbed(outputDiv, spec, embedOpt)\n        .catch(err => showError(`Javascript Error: ${err.message}<br>This usually means there's a typo in your chart specification. See the javascript console for the full traceback.`));\n    }\n\n    if(typeof define === \"function\" && define.amd) {\n      requirejs.config({paths});\n      require([\"vega-embed\"], displayChart, err => showError(`Error loading script: ${err.message}`));\n    } else if (typeof vegaEmbed === \"function\") {\n      displayChart(vegaEmbed);\n    } else {\n      loadScript(\"vega\")\n        .then(() => loadScript(\"vega-lite\"))\n        .then(() => loadScript(\"vega-embed\"))\n        .catch(showError)\n        .then(() => displayChart(vegaEmbed));\n    }\n  })({\"config\": {\"view\": {\"continuousWidth\": 400, \"continuousHeight\": 300}, \"area\": {\"fill\": \"#51C0E9\"}, \"axis\": {\"labelFont\": \"Inter, sans-serif\", \"labelFontSize\": 12, \"labelFontWeight\": \"normal\", \"labelLimit\": 60, \"labelOverlap\": \"greedy\", \"titleFont\": \"Inter, sans-serif\", \"titleFontSize\": 12, \"titleFontWeight\": \"bold\"}, \"background\": \"#ffffff\", \"legend\": {\"labelFont\": \"Inter, sans-serif\", \"labelFontSize\": 12, \"titleFont\": \"Inter, sans-serif\", \"titleFontSize\": 12, \"titleFontWeight\": \"bold\"}, \"line\": {\"stroke\": \"#51C0E9\", \"strokeWidth\": 2}, \"rect\": {\"fill\": \"#51C0E9\"}, \"title\": {\"anchor\": \"start\", \"color\": \"#000000\", \"font\": \"Inter, sans-serif\", \"fontSize\": 22, \"fontWeight\": \"normal\"}}, \"data\": {\"name\": \"data-ae8dbae92a1d5c8a4e454c73c9bf1df6\"}, \"mark\": {\"type\": \"bar\", \"tooltip\": {\"content\": \"data\"}}, \"autosize\": {\"type\": \"fit\"}, \"encoding\": {\"color\": {\"type\": \"quantitative\", \"field\": \"f0_\", \"scale\": {\"type\": \"linear\", \"zero\": false}, \"sort\": null}, \"x\": {\"type\": \"nominal\", \"field\": \"election_cycle\", \"scale\": {\"type\": \"linear\", \"zero\": false}, \"sort\": null}, \"y\": {\"type\": \"quantitative\", \"field\": \"f0_\", \"scale\": {\"type\": \"linear\", \"zero\": true}, \"sort\": null}}, \"height\": 300, \"width\": \"container\", \"$schema\": \"https://vega.github.io/schema/vega-lite/v4.json\", \"datasets\": {\"data-ae8dbae92a1d5c8a4e454c73c9bf1df6\": [{\"election_cycle\": \"2018-01-01T00:00:00\", \"f0_\": 2348452.0}, {\"election_cycle\": \"2020-01-01T00:00:00\", \"f0_\": 2152852.0}, {\"election_cycle\": \"2016-01-01T00:00:00\", \"f0_\": 1833835.0}, {\"election_cycle\": \"2022-01-01T00:00:00\", \"f0_\": 3461406.0}]}}, {\"actions\": false, \"mode\": \"vega-lite\"});\n</script>",
      "text/plain": "alt.Chart(...)"
     },
     "metadata": {}
    }
   ],
   "execution_count": 3
  },
  {
   "cell_type": "markdown",
   "source": "Unfortunately, it doesn't work because fastpages doesn't recognize this command: \n\n`_deepnote_run_altair(df_1, \"\"\"{\"$schema\":\"https://vega.github.io/schema/vega-lite/v4.json\",\"mark\":{\"type\":\"bar\",\"tooltip\":{\"content\":\"data\"}},\"height\":220,\"autosize\":{\"type\":\"fit\"},\"data\":{\"name\":\"placeholder\"},\"encoding\":{\"x\":{\"field\":\"election_cycle\",\"type\":\"nominal\",\"sort\":null,\"scale\":{\"type\":\"linear\",\"zero\":false}},\"y\":{\"field\":\"f0_\",\"type\":\"quantitative\",\"sort\":null,\"scale\":{\"type\":\"linear\",\"zero\":true}},\"color\":{\"field\":\"f0_\",\"type\":\"quantitative\",\"sort\":null,\"scale\":{\"type\":\"linear\",\"zero\":false}}}}\"\"\")`\n\nSince that doesn't work, let's try using matplotlib",
   "metadata": {
    "cell_id": "a915d88b-b4c9-4db0-9bf6-6c27676e97bc",
    "tags": [],
    "deepnote_cell_type": "markdown"
   }
  },
  {
   "cell_type": "code",
   "source": "import matplotlib.pyplot as plt; plt.rcdefaults()\nimport numpy as np\nimport matplotlib.pyplot as plt\n\nobjects = ('Python', 'C++', 'Java', 'Perl', 'Scala', 'Lisp')\ny_pos = np.arange(len(objects))\nperformance = [10,8,6,4,2,1]\n\nplt.bar(y_pos, performance, align='center', alpha=0.5)\nplt.xticks(y_pos, objects)\nplt.ylabel('Usage')\nplt.title('Programming language usage')\n\nplt.show()",
   "metadata": {
    "cell_id": "96814ced-3bf5-4b05-b9b3-92e09bf975d5",
    "tags": [],
    "deepnote_to_be_reexecuted": false,
    "source_hash": "d77d9bd",
    "execution_start": 1644040299091,
    "execution_millis": 1716,
    "deepnote_output_heights": [
     437
    ],
    "deepnote_cell_type": "code"
   },
   "outputs": [
    {
     "data": {
      "text/plain": "<Figure size 640x480 with 1 Axes>",
      "image/png": "[encoded data removed]"
     },
     "metadata": {
      "image/png": {
       "width": 562,
       "height": 435
      }
     },
     "output_type": "display_data"
    }
   ],
   "execution_count": 4
  },
  {
   "cell_type": "markdown",
   "source": "Yay, now it works!",
   "metadata": {
    "cell_id": "6024ee09-3db8-4c1d-9fab-f4484335a405",
    "tags": [],
    "deepnote_cell_type": "markdown"
   }
  },
  {
   "cell_type": "markdown",
   "source": "<a style='text-decoration:none;line-height:16px;display:flex;color:#5B5B62;padding:10px;justify-content:end;' href='https://deepnote.com?utm_source=created-in-deepnote-cell&projectId=172ea2db-8610-40fc-a42a-434c8b873b4c' target=\"_blank\">\n<img alt='Created in deepnote.com' style='display:inline;max-height:16px;margin:0px;margin-right:7.5px;' src='data:image/svg+xml;base64,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' > </img>\nCreated in <span style='font-weight:600;margin-left:4px;'>Deepnote</span></a>",
   "metadata": {
    "tags": [],
    "created_in_deepnote_cell": true,
    "deepnote_cell_type": "markdown"
   }
  }
 ],
 "nbformat": 4,
 "nbformat_minor": 2,
 "metadata": {
  "orig_nbformat": 2,
  "deepnote": {
   "is_reactive": false
  },
  "deepnote_notebook_id": "a53a1513-ac30-4030-87db-8218ba87d10a",
  "deepnote_execution_queue": []
 }
}